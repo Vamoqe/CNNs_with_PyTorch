{
 "cells": [
  {
   "cell_type": "code",
   "execution_count": 85,
   "id": "be3a379a-09dd-420c-b849-79f3dac9150e",
   "metadata": {},
   "outputs": [],
   "source": [
    "import torch\n",
    "from sklearn.datasets import make_circles\n",
    "from sklearn.model_selection import train_test_split\n",
    "import pandas as pd # data manager\n",
    "import numpy as np\n",
    "import matplotlib.pyplot as plt\n",
    "from torch import nn\n",
    "from pathlib import Path # saving pytorch model\n",
    "import os\n",
    "os.environ[\"KMP_DUPLICATE_LIB_OK\"]=\"TRUE\""
   ]
  },
  {
   "cell_type": "markdown",
   "id": "21e60650-10fd-4d9f-ba3f-843f8da59765",
   "metadata": {},
   "source": [
    "### 0. Computer Vision libaries in PyTorch\n",
    "\n",
    "* `torchvision` -base domain library for PyTorch computer vision\n",
    "* `torchvision.datasets` - get datasets and data loading functions for computer vision\n",
    "* `torchvision.models` - get pretrained computer vision models that you can leverage for your own problems\n",
    "* `torchvision.transforms` - functions for manipulating your vision data (images) to be suitable for use with an ML model\n",
    "* `torch.utils.data.Dataset` - Base dataset class for PyTorch\n",
    "* `torch.utils.data.DataLoader` - Creates a Python iterable over a dataset "
   ]
  },
  {
   "cell_type": "code",
   "execution_count": 86,
   "id": "bcac5a09-b771-4fd0-a32d-e5cd07d5ef14",
   "metadata": {},
   "outputs": [
    {
     "name": "stdout",
     "output_type": "stream",
     "text": [
      "2.1.1+cu121\n",
      "0.16.1\n"
     ]
    }
   ],
   "source": [
    "import torchvision\n",
    "#from torchvision import datasets\n",
    "from torchvision import transforms\n",
    "from torchvision.transforms import ToTensor\n",
    "\n",
    "# check versions\n",
    "print(torch.__version__)\n",
    "print(torchvision.__version__)"
   ]
  },
  {
   "cell_type": "markdown",
   "id": "e351d8b9-0c2c-4861-8493-50cbd5111a79",
   "metadata": {},
   "source": [
    "### 1. Getting a dataset\n",
    "\n",
    "The dataset we'll be using is FashionMNIST."
   ]
  },
  {
   "cell_type": "code",
   "execution_count": 87,
   "id": "3b746587-a8a3-45dd-824c-bd524690577e",
   "metadata": {},
   "outputs": [],
   "source": [
    "# Setup training data\n",
    "from torchvision import datasets\n",
    "train_data = datasets.FashionMNIST(\n",
    "    root=\"data\",# where to download data to?\n",
    "    train=True, # do we want the training dataset?\n",
    "    download=True, # do we want to download yes/no?\n",
    "    transform=torchvision.transforms.ToTensor(), # how do we want to transform the data?\n",
    "    target_transform=None # how do we want to transform the labels/targets?\n",
    ")\n",
    "\n",
    "test_data = datasets.FashionMNIST(\n",
    "    root=\"data\",\n",
    "    train=False,\n",
    "    download=True,\n",
    "    transform=ToTensor(),\n",
    "    target_transform=None\n",
    ")"
   ]
  },
  {
   "cell_type": "markdown",
   "id": "ff758e5a-3264-4dab-9c50-87933bbcd4b3",
   "metadata": {},
   "source": [
    "#### 1.1 Check input and output shapes & properties of data"
   ]
  },
  {
   "cell_type": "code",
   "execution_count": 88,
   "id": "9ac32b21-bfff-4419-a4cc-3604b11b3b83",
   "metadata": {},
   "outputs": [
    {
     "data": {
      "text/plain": [
       "(60000, 10000)"
      ]
     },
     "execution_count": 88,
     "metadata": {},
     "output_type": "execute_result"
    }
   ],
   "source": [
    "len(train_data),len(test_data)"
   ]
  },
  {
   "cell_type": "code",
   "execution_count": 89,
   "id": "2f4942e0-dc3c-4877-a5a9-5e4f30bbe96a",
   "metadata": {},
   "outputs": [],
   "source": [
    "image, label = train_data[0]\n",
    "# image : torch.Tensor\n",
    "# label : int"
   ]
  },
  {
   "cell_type": "code",
   "execution_count": 90,
   "id": "817744be-1b0a-4d7e-b133-23cab347806b",
   "metadata": {},
   "outputs": [
    {
     "data": {
      "text/plain": [
       "['T-shirt/top',\n",
       " 'Trouser',\n",
       " 'Pullover',\n",
       " 'Dress',\n",
       " 'Coat',\n",
       " 'Sandal',\n",
       " 'Shirt',\n",
       " 'Sneaker',\n",
       " 'Bag',\n",
       " 'Ankle boot']"
      ]
     },
     "execution_count": 90,
     "metadata": {},
     "output_type": "execute_result"
    }
   ],
   "source": [
    "class_names = train_data.classes\n",
    "class_names"
   ]
  },
  {
   "cell_type": "code",
   "execution_count": 91,
   "id": "eb1a717c-98b4-4df9-aa27-870113d87e81",
   "metadata": {},
   "outputs": [
    {
     "data": {
      "text/plain": [
       "{'T-shirt/top': 0,\n",
       " 'Trouser': 1,\n",
       " 'Pullover': 2,\n",
       " 'Dress': 3,\n",
       " 'Coat': 4,\n",
       " 'Sandal': 5,\n",
       " 'Shirt': 6,\n",
       " 'Sneaker': 7,\n",
       " 'Bag': 8,\n",
       " 'Ankle boot': 9}"
      ]
     },
     "execution_count": 91,
     "metadata": {},
     "output_type": "execute_result"
    }
   ],
   "source": [
    "class_to_idx = train_data.class_to_idx\n",
    "class_to_idx"
   ]
  },
  {
   "cell_type": "code",
   "execution_count": 92,
   "id": "97dc95dd-39cc-4d00-9e46-f980d6c0cd3d",
   "metadata": {},
   "outputs": [
    {
     "name": "stdout",
     "output_type": "stream",
     "text": [
      "Image shape: torch.Size([1, 28, 28]) -> [color_channels, height, width]\n",
      "Image label: Ankle boot\n"
     ]
    }
   ],
   "source": [
    "# check the shape of our image at position 0\n",
    "print(f\"Image shape: {image.shape} -> [color_channels, height, width]\")\n",
    "print(f\"Image label: {class_names[label]}\")\n",
    "# color channels has single color channel since it's gray scale."
   ]
  },
  {
   "cell_type": "markdown",
   "id": "17bb8587-e89e-4468-8312-09fca2ecb002",
   "metadata": {},
   "source": [
    "#### 1.2 Visualizing our data"
   ]
  },
  {
   "cell_type": "code",
   "execution_count": 93,
   "id": "685943e4-14f6-4892-8233-4b863bbe2d96",
   "metadata": {},
   "outputs": [
    {
     "data": {
      "text/plain": [
       "Text(0.5, 1.0, '9')"
      ]
     },
     "execution_count": 93,
     "metadata": {},
     "output_type": "execute_result"
    },
    {
     "data": {
      "image/png": "[encoded data removed]",
      "text/plain": [
       "<Figure size 640x480 with 1 Axes>"
      ]
     },
     "metadata": {},
     "output_type": "display_data"
    }
   ],
   "source": [
    "plt.imshow(image.squeeze())\n",
    "plt.title(label)"
   ]
  },
  {
   "cell_type": "code",
   "execution_count": 94,
   "id": "a63539b0-839d-4194-b73c-7db3428b5dd2",
   "metadata": {},
   "outputs": [
    {
     "data": {
      "text/plain": [
       "Text(0.5, 1.0, 'Ankle boot')"
      ]
     },
     "execution_count": 94,
     "metadata": {},
     "output_type": "execute_result"
    },
    {
     "data": {
      "image/png": "[encoded data removed]",
      "text/plain": [
       "<Figure size 640x480 with 1 Axes>"
      ]
     },
     "metadata": {},
     "output_type": "display_data"
    }
   ],
   "source": [
    "plt.imshow(image.squeeze(),cmap=\"gray\")\n",
    "plt.title(class_names[label])"
   ]
  },
  {
   "cell_type": "code",
   "execution_count": 95,
   "id": "6bc620f4-b03b-4495-a029-a455b7ba8cbd",
   "metadata": {},
   "outputs": [
    {
     "data": {
      "image/png": "[encoded data removed]",
      "text/plain": [
       "<Figure size 900x900 with 16 Axes>"
      ]
     },
     "metadata": {},
     "output_type": "display_data"
    }
   ],
   "source": [
    "# Plot more images\n",
    "#torch.manual_seed(42)\n",
    "fig = plt.figure(figsize=(9,9))\n",
    "rows,cols = 4,4\n",
    "for i in range(1,rows*cols+1):\n",
    "    random_idx = torch.randint(0,len(train_data),size=[1]).item()\n",
    "    #print(random_idx)\n",
    "    img, label = train_data[random_idx]\n",
    "    fig.add_subplot(rows,cols,i)\n",
    "    plt.imshow(img.squeeze(),cmap=\"gray\")\n",
    "    plt.title(class_names[label])\n",
    "    plt.axis(False);"
   ]
  },
  {
   "cell_type": "markdown",
   "id": "2171d535-14e0-4439-928f-d1aa23d05cf9",
   "metadata": {},
   "source": [
    "Do you think these items of clothing (images) could be modeled with pure linear lines?\n",
    "Or do you thinkd we'll need non-linearities?\n"
   ]
  },
  {
   "cell_type": "markdown",
   "id": "04ca2b37-427e-4c64-828e-ae6fa1f75547",
   "metadata": {},
   "source": [
    "### 2. Prepare DataLoader\n",
    "\n",
    "Right now, our data is in the form of PyTorch Datasets.\n",
    "\n",
    "DataLoader turns our dataset into Python iterable.\n",
    "\n",
    "More specifically, we want to turn our data into batches (or mini-batches).\n",
    "\n",
    "Why would we do this?\n",
    "\n",
    "1. It is more computationally efficient, as in, your computing hardward may not be able to look (store in memory) at 60000 images in one hit. So we break it down to 32 images at a time (batch size of 32).\n",
    "2. It gives our neural network more chances to updata its gradients per epoch.\n"
   ]
  },
  {
   "cell_type": "code",
   "execution_count": 96,
   "id": "a52185cd-32f8-4b83-bcd5-7c998f8b9275",
   "metadata": {},
   "outputs": [
    {
     "data": {
      "text/plain": [
       "(<torch.utils.data.dataloader.DataLoader at 0x12a930eefd0>,\n",
       " <torch.utils.data.dataloader.DataLoader at 0x12a9da6a010>)"
      ]
     },
     "execution_count": 96,
     "metadata": {},
     "output_type": "execute_result"
    }
   ],
   "source": [
    "from torch.utils.data import DataLoader\n",
    "\n",
    "# Setup the batch size hyperparameter\n",
    "BATCH_SIZE = 32\n",
    "\n",
    "# Turn datasets into iterables\n",
    "train_dataloader = DataLoader(dataset=train_data,\n",
    "                              batch_size=BATCH_SIZE,\n",
    "                              shuffle=True) # keep model from learning data order\n",
    "\n",
    "test_dataloader = DataLoader(dataset=test_data,\n",
    "                             batch_size=BATCH_SIZE,\n",
    "                             shuffle=False)\n",
    "\n",
    "train_dataloader,test_dataloader"
   ]
  },
  {
   "cell_type": "code",
   "execution_count": 97,
   "id": "3cbddb1d-0f98-4126-8a13-791eb02423dc",
   "metadata": {},
   "outputs": [
    {
     "name": "stdout",
     "output_type": "stream",
     "text": [
      "DateLoaders: (<torch.utils.data.dataloader.DataLoader object at 0x0000012A930EEFD0>, <torch.utils.data.dataloader.DataLoader object at 0x0000012A9DA6A010>)\n",
      "Length of train_dataloader: 1875 batches of 32...\n",
      "Length of test_dataloaderL 313 batches of 32...\n"
     ]
    }
   ],
   "source": [
    "# Let's check out what we've created\n",
    "print(f\"DateLoaders: {train_dataloader, test_dataloader}\")\n",
    "print(f\"Length of train_dataloader: {len(train_dataloader)} batches of {BATCH_SIZE}...\")\n",
    "print(f\"Length of test_dataloaderL {len(test_dataloader)} batches of {BATCH_SIZE}...\")"
   ]
  },
  {
   "cell_type": "code",
   "execution_count": 98,
   "id": "aaf9ce89-0180-4fc3-8b5b-a6ec606cb8f3",
   "metadata": {},
   "outputs": [
    {
     "data": {
      "text/plain": [
       "(torch.Size([32, 1, 28, 28]), torch.Size([32]))"
      ]
     },
     "execution_count": 98,
     "metadata": {},
     "output_type": "execute_result"
    }
   ],
   "source": [
    "# Check out what's inside the training dataloader\n",
    "train_features_batch, train_labels_batch = next(iter(train_dataloader))\n",
    "train_features_batch.shape, train_labels_batch.shape"
   ]
  },
  {
   "cell_type": "code",
   "execution_count": 103,
   "id": "1b3512bb-d908-4fcc-be77-8848e73c3793",
   "metadata": {},
   "outputs": [
    {
     "name": "stdout",
     "output_type": "stream",
     "text": [
      "Image size: torch.Size([1, 28, 28])\n",
      "Label: 6, label size: torch.Size([])\n"
     ]
    },
    {
     "data": {
      "image/png": "[encoded data removed]",
      "text/plain": [
       "<Figure size 640x480 with 1 Axes>"
      ]
     },
     "metadata": {},
     "output_type": "display_data"
    }
   ],
   "source": [
    "# Show a sample\n",
    "#torch.manual_seed(42)\n",
    "random_idx = torch.randint(0, len(train_features_batch),size=[1]).item()\n",
    "img, label = train_features_batch[random_idx], train_labels_batch[random_idx]\n",
    "plt.imshow(img.squeeze(),cmap=\"gray\")\n",
    "plt.title(class_name[label])\n",
    "plt.axis(False)\n",
    "print(f\"Image size: {img.shape}\")\n",
    "print(f\"Label: {label}, label size: {label.shape}\")"
   ]
  },
  {
   "cell_type": "markdown",
   "id": "575f250c-34d4-44c7-a2e1-3c15ee0e3533",
   "metadata": {},
   "source": [
    "### 3. Model 0: Build a basline model\n",
    "\n",
    "When starting to build a series of machine learning modelling experiments, it's best practice to start with a baseline model.\n",
    "\n",
    "A baseline model is a simple model you will try and improve upon with subsequent models/experiments.\n",
    "\n",
    "In other words: start simply and add complexity when necessary."
   ]
  },
  {
   "cell_type": "code",
   "execution_count": 116,
   "id": "082f7828-9076-4b98-a946-7e3783ba09ba",
   "metadata": {},
   "outputs": [
    {
     "name": "stdout",
     "output_type": "stream",
     "text": [
      "Shape before flattening: torch.Size([1, 28, 28]) -> [color_channels, height, width]\n",
      "Shape after flattening: torch.Size([1, 784]) -> [color_channels, height*width]\n"
     ]
    }
   ],
   "source": [
    "# Create a flatten layer\n",
    "flatten_model = nn.Flatten()\n",
    "\n",
    "# Get a single sample\n",
    "x = train_features_batch[0]\n",
    "\n",
    "# Flatten the sample\n",
    "output = flatten_model(x) # perform forward pass\n",
    "\n",
    "# Print out what happened\n",
    "print(f\"Shape before flattening: {x.shape} -> [color_channels, height, width]\")\n",
    "print(f\"Shape after flattening: { output.shape} -> [color_channels, height*width]\")\n"
   ]
  },
  {
   "cell_type": "code",
   "execution_count": 117,
   "id": "558c53f9-46fe-4a83-b805-5e596bc18ada",
   "metadata": {},
   "outputs": [],
   "source": [
    "class FashionMNISTModelV0(nn.Module):\n",
    "    def __init__(self,\n",
    "                 input_shape: int,\n",
    "                 hidden_units: int,\n",
    "                 output_shape: int):\n",
    "        super().__init__()\n",
    "        self.layer_stack = nn.Sequential(\n",
    "            nn.Flatten(),\n",
    "            nn.Linear(in_features=input_shape,\n",
    "                      out_features=hidden_units),\n",
    "            nn.Linear(in_features=hidden_units,\n",
    "                      out_features=output_shape)\n",
    "        )\n",
    "\n",
    "    def forward(self,x):\n",
    "        return self.layer_stack(x)\n"
   ]
  },
  {
   "cell_type": "code",
   "execution_count": 121,
   "id": "6a6d8f30-f361-4390-9916-36b59402d147",
   "metadata": {},
   "outputs": [
    {
     "data": {
      "text/plain": [
       "FashionMNISTModelV0(\n",
       "  (layer_stack): Sequential(\n",
       "    (0): Flatten(start_dim=1, end_dim=-1)\n",
       "    (1): Linear(in_features=784, out_features=10, bias=True)\n",
       "    (2): Linear(in_features=10, out_features=10, bias=True)\n",
       "  )\n",
       ")"
      ]
     },
     "execution_count": 121,
     "metadata": {},
     "output_type": "execute_result"
    }
   ],
   "source": [
    "torch.manual_seed(42)\n",
    "\n",
    "# Setup model with input parameters\n",
    "model_0 = FashionMNISTModelV0(\n",
    "    input_shape=28*28, # this is 28*28\n",
    "    hidden_units = 10, # how many units in the hidden layer\n",
    "    output_shape = len(class_name) # one for every class\n",
    ").to(\"cpu\")\n",
    "\n",
    "model_0"
   ]
  },
  {
   "cell_type": "code",
   "execution_count": 122,
   "id": "49863aaf-e228-4ca1-8bd8-7f7dec6972db",
   "metadata": {},
   "outputs": [
    {
     "data": {
      "text/plain": [
       "tensor([[-0.0315,  0.3171,  0.0531, -0.2525,  0.5959,  0.2112,  0.3233,  0.2694,\n",
       "         -0.1004,  0.0157]], grad_fn=<AddmmBackward0>)"
      ]
     },
     "execution_count": 122,
     "metadata": {},
     "output_type": "execute_result"
    }
   ],
   "source": [
    "dummy_x = torch.rand([1,1,28,28])\n",
    "model_0(dummy_x)"
   ]
  },
  {
   "cell_type": "code",
   "execution_count": 123,
   "id": "48d447db-7dd3-41b6-8ca8-afca465ccf01",
   "metadata": {},
   "outputs": [
    {
     "data": {
      "text/plain": [
       "OrderedDict([('layer_stack.1.weight',\n",
       "              tensor([[ 0.0273,  0.0296, -0.0084,  ..., -0.0142,  0.0093,  0.0135],\n",
       "                      [-0.0188, -0.0354,  0.0187,  ..., -0.0106, -0.0001,  0.0115],\n",
       "                      [-0.0008,  0.0017,  0.0045,  ..., -0.0127, -0.0188,  0.0059],\n",
       "                      ...,\n",
       "                      [-0.0116,  0.0273, -0.0344,  ...,  0.0176,  0.0283, -0.0011],\n",
       "                      [-0.0230,  0.0257,  0.0291,  ..., -0.0187, -0.0087,  0.0001],\n",
       "                      [ 0.0176, -0.0147,  0.0053,  ..., -0.0336, -0.0221,  0.0205]])),\n",
       "             ('layer_stack.1.bias',\n",
       "              tensor([-0.0093,  0.0283, -0.0033,  0.0255,  0.0017,  0.0037, -0.0302, -0.0123,\n",
       "                       0.0018,  0.0163])),\n",
       "             ('layer_stack.2.weight',\n",
       "              tensor([[ 0.0614, -0.0687,  0.0021,  0.2718,  0.2109,  0.1079, -0.2279, -0.1063,\n",
       "                        0.2019,  0.2847],\n",
       "                      [-0.1495,  0.1344, -0.0740,  0.2006, -0.0475, -0.2514, -0.3130, -0.0118,\n",
       "                        0.0932, -0.1864],\n",
       "                      [ 0.2488,  0.1500,  0.1907,  0.1457, -0.3050, -0.0580,  0.1643,  0.1565,\n",
       "                       -0.2877, -0.1792],\n",
       "                      [ 0.2305, -0.2618,  0.2397, -0.0610,  0.0232,  0.1542,  0.0851, -0.2027,\n",
       "                        0.1030, -0.2715],\n",
       "                      [-0.1596, -0.0555, -0.0633,  0.2302, -0.1726,  0.2654,  0.1473,  0.1029,\n",
       "                        0.2252, -0.2160],\n",
       "                      [-0.2725,  0.0118,  0.1559,  0.1596,  0.0132,  0.3024,  0.1124,  0.1366,\n",
       "                       -0.1533,  0.0965],\n",
       "                      [-0.1184, -0.2555, -0.2057, -0.1909, -0.0477, -0.1324,  0.2905,  0.1307,\n",
       "                       -0.2629,  0.0133],\n",
       "                      [ 0.2727, -0.0127,  0.0513,  0.0863, -0.1043, -0.2047, -0.1185, -0.0825,\n",
       "                        0.2488, -0.2571],\n",
       "                      [ 0.0425, -0.1209, -0.0336, -0.0281, -0.1227,  0.0730,  0.0747, -0.1816,\n",
       "                        0.1943,  0.2853],\n",
       "                      [-0.1310,  0.0645, -0.1171,  0.2168, -0.0245, -0.2820,  0.0736,  0.2621,\n",
       "                        0.0012, -0.0810]])),\n",
       "             ('layer_stack.2.bias',\n",
       "              tensor([-0.0087,  0.1791,  0.2712, -0.0791,  0.1685,  0.1762,  0.2825,  0.2266,\n",
       "                      -0.2612, -0.2613]))])"
      ]
     },
     "execution_count": 123,
     "metadata": {},
     "output_type": "execute_result"
    }
   ],
   "source": [
    "model_0.state_dict()"
   ]
  },
  {
   "cell_type": "markdown",
   "id": "5a623546-75e2-48a5-b14a-c2b3812e83ed",
   "metadata": {},
   "source": [
    "#### 3.1 Setup loss, optimizer and evaluate metrics\n",
    "\n",
    "* Loss function - since we're working with multi-class data, our loss function will be `nn.CrossEntropyLoss`.\n",
    "* Optimizer - our optimizer `torch.optim.SGD()`\n",
    "* Evaluation metric - since we're working on a classification problem, let's use accuracy as our evaluation metric."
   ]
  },
  {
   "cell_type": "code",
   "execution_count": 126,
   "id": "3a46a159-057f-4a08-b27a-18d17649a6c6",
   "metadata": {},
   "outputs": [
    {
     "name": "stdout",
     "output_type": "stream",
     "text": [
      "helper_functions.py already exists, skipping download...\n"
     ]
    }
   ],
   "source": [
    "import requests\n",
    "from pathlib import Path\n",
    "\n",
    "# Download helper functions from Learn Pytorch repo\n",
    "if Path(\"helper_functions.py\").is_file():\n",
    "    print(\"helper_functions.py already exists, skipping download...\")\n",
    "else:\n",
    "    print(\"Downloading helper_functions.py\")\n",
    "    request = requests.get(\"https://raw.githubusercontent.com/mrdbourke/pytorch-deep-learning/main/helper_functions.py\")\n",
    "    with open(\"helper_functions.py\", \"wb\") as f:\n",
    "        f.write(request.content)\n",
    "    "
   ]
  },
  {
   "cell_type": "code",
   "execution_count": 128,
   "id": "773069ac-7a67-4ebf-9e63-85c154199b70",
   "metadata": {},
   "outputs": [],
   "source": [
    "# Import accuracy metric\n",
    "from helper_functions import accuracy_fn\n",
    "\n",
    "# Setup loss function and optimizer\n",
    "loss_fn = nn.CrossEntropyLoss()\n",
    "optimizer = torch.optim.SGD(params=model_0.parameters(),\n",
    "                            lr=0.1)"
   ]
  },
  {
   "cell_type": "markdown",
   "id": "9eabeaa0-61c9-40aa-a9ba-8969ca382c58",
   "metadata": {},
   "source": [
    "#### 3.2 Creating a function to time our experiments\n",
    "\n",
    "Machine learning is very experimental.\n",
    "\n",
    "Two of the main things you'll often want to track are:\n",
    "1. Model's performance (loss and accuracy values etc)\n",
    "2. How fast it runs"
   ]
  },
  {
   "cell_type": "code",
   "execution_count": 135,
   "id": "51abbda3-86a6-4026-beff-7bbee86e749b",
   "metadata": {},
   "outputs": [],
   "source": [
    "# timer function\n",
    "from timeit import default_timer as timer\n",
    "def print_train_time(start:float,\n",
    "                     end:float,\n",
    "                     device: torch.device=None):\n",
    "    \"\"\"Prints difference between start and end time.\"\"\"\n",
    "    total_time = end-start\n",
    "    print(f\"Train time on {device}: {total_time:.3f} seconds\")\n",
    "    return total_time"
   ]
  },
  {
   "cell_type": "code",
   "execution_count": 136,
   "id": "e33ae4df-6e24-4fb1-97ae-c36993098c8c",
   "metadata": {},
   "outputs": [
    {
     "name": "stdout",
     "output_type": "stream",
     "text": [
      "Train time on cpu: 0.000 seconds\n"
     ]
    },
    {
     "data": {
      "text/plain": [
       "5.549995694309473e-05"
      ]
     },
     "execution_count": 136,
     "metadata": {},
     "output_type": "execute_result"
    }
   ],
   "source": [
    "start_time = timer()\n",
    "# some code\n",
    "end_time = timer()\n",
    "print_train_time(start = start_time,end=end_time,device=\"cpu\")"
   ]
  },
  {
   "cell_type": "markdown",
   "id": "f0d8aa67-ab93-41ab-acdd-b72daee38553",
   "metadata": {},
   "source": [
    "#### 3.3 Create a training loop and training a model on batches of data...\n",
    "\n",
    "Highlight that the optimizer will updata a model's parameter per batch rather then once an epoch.\n",
    "\n",
    "1. Loop through epochs.\n",
    "2. Loop through training batches, perform training steps, calculate the train loss *per batch*.\n",
    "3. Loop through testing batches, perform testing steps, calculate the test loss *per batch*.\n",
    "4. Print out what's happenin'.\n",
    "5. Time it all(for fun)."
   ]
  },
  {
   "cell_type": "code",
   "execution_count": 141,
   "id": "5ca46dc6-34e5-412e-aebd-1a892d5b111f",
   "metadata": {},
   "outputs": [
    {
     "data": {
      "application/vnd.jupyter.widget-view+json": {
       "model_id": "28d62f927019490e9a6cf5b2f378f7f6",
       "version_major": 2,
       "version_minor": 0
      },
      "text/plain": [
       "  0%|          | 0/3 [00:00<?, ?it/s]"
      ]
     },
     "metadata": {},
     "output_type": "display_data"
    },
    {
     "name": "stdout",
     "output_type": "stream",
     "text": [
      "\n",
      "Epoch: 0\n",
      "------\n",
      "Looked at 0/60000 samples.\n",
      "Looked at 12800/60000 samples.\n",
      "Looked at 25600/60000 samples.\n",
      "Looked at 38400/60000 samples.\n",
      "Looked at 51200/60000 samples.\n",
      "\n",
      "Train loss: 0.4440 | Test loss: 0.4651, Test acc: 83.65%\n",
      "\n",
      "Epoch: 1\n",
      "------\n",
      "Looked at 0/60000 samples.\n",
      "Looked at 12800/60000 samples.\n",
      "Looked at 25600/60000 samples.\n",
      "Looked at 38400/60000 samples.\n",
      "Looked at 51200/60000 samples.\n",
      "\n",
      "Train loss: 0.4366 | Test loss: 0.4645, Test acc: 83.89%\n",
      "\n",
      "Epoch: 2\n",
      "------\n",
      "Looked at 0/60000 samples.\n",
      "Looked at 12800/60000 samples.\n",
      "Looked at 25600/60000 samples.\n",
      "Looked at 38400/60000 samples.\n",
      "Looked at 51200/60000 samples.\n",
      "\n",
      "Train loss: 0.4305 | Test loss: 0.4659, Test acc: 83.93%\n",
      "Train time on cpu: 126.371 seconds\n"
     ]
    }
   ],
   "source": [
    "# Import tqdm for progress bar\n",
    "from tqdm.auto import tqdm\n",
    "\n",
    "\n",
    "# Set the seed and start the times\n",
    "torch.manual_seed(42)\n",
    "train_time_start_on_cpu = timer()\n",
    "\n",
    "# Set the number of epochs (we'll keep this small for faster training time)\n",
    "epochs=3\n",
    "\n",
    "# Create training and test loop\n",
    "for epoch in tqdm(range(epochs)):\n",
    "    print(f\"\\nEpoch: {epoch}\\n------\")\n",
    "\n",
    "    ### Training\n",
    "    train_loss = 0\n",
    "    # Add a loop to loop through the training batches\n",
    "    for batch, (X,y) in enumerate(train_dataloader):\n",
    "        model_0.train()\n",
    "        # 1. Forward pass\n",
    "        y_pred = model_0(X)\n",
    "\n",
    "        # 2. Calculate loss (per batch)\n",
    "        loss = loss_fn(y_pred, y)\n",
    "        train_loss += loss # accumulate train loss\n",
    "\n",
    "        # 3. Optimizer zero grad\n",
    "        optimizer.zero_grad()\n",
    "\n",
    "        # 4. Loss backward\n",
    "        loss.backward()\n",
    "\n",
    "        # 5. optimizer step\n",
    "        optimizer.step()\n",
    "\n",
    "        # Print out what's happenin'\n",
    "        if batch % 400 == 0:\n",
    "            print(f\"Looked at {batch * len(X)}/{len(train_dataloader.dataset)} samples.\")\n",
    "\n",
    "\n",
    "    # Divide total train loss by length of train dataloader\n",
    "    train_loss /= len(train_dataloader)\n",
    "\n",
    "    ### Testing\n",
    "    test_loss, test_acc = 0, 0\n",
    "    model_0.eval()\n",
    "    with torch.inference_mode():\n",
    "        for X_test, y_test in test_dataloader:\n",
    "            # 1. Forward pass\n",
    "            test_pred = model_0(X_test)\n",
    "\n",
    "            # 2. Calculate loss (accumulatively)\n",
    "            test_loss += loss_fn(test_pred, y_test)\n",
    "\n",
    "            # 3. Calculate accuracy\n",
    "            test_acc += accuracy_fn(y_true=y_test,\n",
    "                                    y_pred=test_pred.argmax(dim=1))\n",
    "        \n",
    "        # Calculate the test loss average per batch\n",
    "        test_loss /= len(test_dataloader)\n",
    "\n",
    "        # Calculate the test acc average per batch\n",
    "        test_acc /= len(test_dataloader)\n",
    "        \n",
    "    # Print out what's happenin'\n",
    "    print(f\"\\nTrain loss: {train_loss:.4f} | Test loss: {test_loss:.4f}, Test acc: {test_acc:.2f}%\")\n",
    "\n",
    "# Calculate training time\n",
    "train_time_end_on_cpu = timer()\n",
    "total_train_time_model_0 = print_train_time(start=train_time_start_on_cpu,\n",
    "                                            end=train_time_end_on_cpu,\n",
    "                                            device=str(next(model_0.parameters()).device))\n"
   ]
  },
  {
   "cell_type": "code",
   "execution_count": null,
   "id": "c3fe21c9-5d79-4dc7-a69d-2abb1a755510",
   "metadata": {},
   "outputs": [],
   "source": [
    "### 4. Make predictions and get Model 0 results"
   ]
  },
  {
   "cell_type": "code",
   "execution_count": 187,
   "id": "869e9195-a72c-4109-b8a8-690f18831276",
   "metadata": {},
   "outputs": [
    {
     "data": {
      "application/vnd.jupyter.widget-view+json": {
       "model_id": "f97c32ad0d454a87bca5e0af21b6635f",
       "version_major": 2,
       "version_minor": 0
      },
      "text/plain": [
       "  0%|          | 0/313 [00:00<?, ?it/s]"
      ]
     },
     "metadata": {},
     "output_type": "display_data"
    },
    {
     "data": {
      "text/plain": [
       "{'model_name': 'FashionMNISTModelV0',\n",
       " 'model_loss': 0.4659360349178314,\n",
       " 'model_acc': 83.92571884984025}"
      ]
     },
     "execution_count": 187,
     "metadata": {},
     "output_type": "execute_result"
    }
   ],
   "source": [
    "torch.manual_seed(42)\n",
    "def eval_model(model: torch.nn.Module,\n",
    "               data_loader: torch.utils.data.DataLoader,\n",
    "               loss_fn: torch.nn.Module,\n",
    "               accuracy_fn,\n",
    "               device:torch.device = device):\n",
    "    \"\"\"Return a dictionary containing the results of model predicting on data_loader.\"\"\"\n",
    "    loss, acc = 0,0\n",
    "    model = model.to(device)\n",
    "    model.eval()\n",
    "    with torch.inference_mode():\n",
    "        for X, y in tqdm(data_loader):\n",
    "            # Make our data device agnostic\n",
    "            X, y = X.to(device), y.to(device)\n",
    "            # Make predictions\n",
    "            y_pred = model(X)\n",
    "\n",
    "            # Accumulate the loss and acc values per batch\n",
    "            loss += loss_fn(y_pred,y)\n",
    "            acc += accuracy_fn(y_true=y,\n",
    "                               y_pred=y_pred.argmax(dim=1))\n",
    "\n",
    "        # Scale loss and acc to find the average loss/acc per batch\n",
    "        loss /= len(data_loader)\n",
    "        acc /= len(data_loader)\n",
    "\n",
    "    return {\"model_name\":model.__class__.__name__, # only works when model was created with a class\n",
    "            \"model_loss\":loss.item(),\n",
    "            \"model_acc\":acc}\n",
    "\n",
    "# Calculate model_0 result on test dataset\n",
    "model_0_results = eval_model(model=model_0,\n",
    "                             data_loader=test_dataloader,\n",
    "                             loss_fn=loss_fn,\n",
    "                             accuracy_fn=accuracy_fn)\n",
    "model_0_results"
   ]
  },
  {
   "cell_type": "markdown",
   "id": "7620804e-046a-45f9-93c4-56bf953d3955",
   "metadata": {},
   "source": [
    "### 5. Setup device agnostic-code (for using a GPU if there is one)"
   ]
  },
  {
   "cell_type": "code",
   "execution_count": 144,
   "id": "46fcd661-3d8e-4b73-8f2b-15cb04f219b8",
   "metadata": {},
   "outputs": [
    {
     "data": {
      "text/plain": [
       "'cuda'"
      ]
     },
     "execution_count": 144,
     "metadata": {},
     "output_type": "execute_result"
    }
   ],
   "source": [
    "device = \"cuda\" if torch.cuda.is_available() else \"cpu\"\n",
    "device"
   ]
  },
  {
   "cell_type": "markdown",
   "id": "b27676b0-142b-4538-a827-bac1362e1336",
   "metadata": {},
   "source": [
    "### 6. Model 1: Building a better model with non-linearity\n",
    "\n",
    "We learn about the power of non-linearity in notebook 02"
   ]
  },
  {
   "cell_type": "code",
   "execution_count": 180,
   "id": "05c13195-5e0c-4221-90e7-af5bab5e9253",
   "metadata": {},
   "outputs": [],
   "source": [
    "# Create a model with linear and non-linear layers\n",
    "class FashionMNISTModelV1(nn.Module):\n",
    "    def __init__(self,\n",
    "                 input_shape: int,\n",
    "                 hidden_units: int,\n",
    "                 output_shape: int):\n",
    "        super().__init__()\n",
    "        self.layer_stack = nn.Sequential(\n",
    "            nn.Flatten(),\n",
    "            nn.Linear(in_features=input_shape,\n",
    "                      out_features=hidden_units),\n",
    "            nn.ReLU(),\n",
    "            nn.Linear(in_features=hidden_units,\n",
    "                      out_features=output_shape),\n",
    "            nn.ReLU()\n",
    "        )\n",
    "\n",
    "    def forward(self, x:torch.Tensor):\n",
    "        return self.layer_stack(x)"
   ]
  },
  {
   "cell_type": "code",
   "execution_count": 181,
   "id": "b418ce2b-6050-463f-a142-63f1aefde3bd",
   "metadata": {},
   "outputs": [
    {
     "data": {
      "text/plain": [
       "device(type='cuda', index=0)"
      ]
     },
     "execution_count": 181,
     "metadata": {},
     "output_type": "execute_result"
    }
   ],
   "source": [
    "# Create an instancee of model_1\n",
    "torch.manual_seed(42)\n",
    "model_1 = FashionMNISTModelV1(input_shape=28*28,\n",
    "                              hidden_units=10,\n",
    "                              output_shape=len(class_name)).to(device) \n",
    "                                    # send to the GPU if it's available\n",
    "\n",
    "next(model_1.parameters()).device"
   ]
  },
  {
   "cell_type": "code",
   "execution_count": 182,
   "id": "cd615e0c-b24c-43a4-acd5-654ea2d096d8",
   "metadata": {},
   "outputs": [],
   "source": [
    "#### 6.1 Setup loss, optimizer and evaluation metrics\n",
    "from helper_functions import accuracy_fn\n",
    "loss_fn = nn.CrossEntropyLoss() # measure how wrong our model is\n",
    "optimizer = torch.optim.SGD(params=model_1.parameters(),\n",
    "                            lr=0.1)# tries to update our model's parameters to reduce the loss"
   ]
  },
  {
   "cell_type": "markdown",
   "id": "4a21d556-206b-4419-be0c-13bcc07a7f80",
   "metadata": {},
   "source": [
    "#### 6.2 Functionizing training and evaluation/test loops\n",
    "Let;s create a function for:\n",
    "* training loop - `train_step()`\n",
    "* testing loop - `test_step()`"
   ]
  },
  {
   "cell_type": "code",
   "execution_count": 183,
   "id": "542be09f-63e9-4934-90da-9066a9a837ac",
   "metadata": {},
   "outputs": [],
   "source": [
    "def train_step(model: torch.nn.Module,\n",
    "              data_loader: torch.utils.data.DataLoader,\n",
    "              loss_fn: torch.nn.Module,\n",
    "              optimizer: torch.optim.Optimizer,\n",
    "              accuracy_fn,\n",
    "              device: torch.device = device):\n",
    "    \"\"\"Performs a training with model trying to learn on data_loader.\"\"\"\n",
    "    train_loss, train_acc = 0, 0\n",
    "    \n",
    "    # Put model into training mode\n",
    "    model.train()\n",
    "\n",
    "    # Add a loop to loop through the training batches\n",
    "    for batch, (X,y) in enumerate(data_loader):\n",
    "        # Put data on target device\n",
    "        X, y = X.to(device), y.to(device)\n",
    "        \n",
    "        # 1. Forward pass\n",
    "        y_pred = model(X)\n",
    "\n",
    "        # 2. Calculate loss (per batch)\n",
    "        loss = loss_fn(y_pred, y)\n",
    "        train_loss += loss # accumulate train loss\n",
    "        train_acc += accuracy_fn(y_true=y, # accumulate train loss\n",
    "                                 y_pred=y_pred.argmax(dim=1))\n",
    "        \n",
    "        # 3. Optimizer zero grad\n",
    "        optimizer.zero_grad()\n",
    "\n",
    "        # 4. Loss backward\n",
    "        loss.backward()\n",
    "\n",
    "        # 5. optimizer step\n",
    "        optimizer.step()\n",
    "\n",
    "        # Print out what's happenin'\n",
    "        if batch % 400 == 0:\n",
    "            print(f\"Looked at {batch * len(X)}/{len(train_dataloader.dataset)} samples.\")\n",
    "\n",
    "\n",
    "    # Divide total train loss and accuracy by length of train dataloader\n",
    "    train_loss /= len(data_loader)\n",
    "    train_acc /= len(data_loader)\n",
    "    print(f\"Train loss: {train_loss:.5f} | Train acc: {train_acc:.2f}%\")"
   ]
  },
  {
   "cell_type": "code",
   "execution_count": 184,
   "id": "81b69bb9-2888-4dca-9dc9-e47e540563a4",
   "metadata": {},
   "outputs": [],
   "source": [
    "def test_step(model: torch.nn.Module,\n",
    "              data_loader: torch.utils.data.DataLoader,\n",
    "              loss_fn: torch.nn.Module,\n",
    "              accuracy_fn,\n",
    "              device: torch.device = device):\n",
    "    \"\"\"Performs a testing loop step on model going over data_loader.\"\"\"\n",
    "    test_loss, test_acc = 0,0\n",
    "\n",
    "    # Put the model in eval mode\n",
    "    model.eval()\n",
    "\n",
    "    # Turn on inference mode context manager\n",
    "    with torch.inference_mode():\n",
    "        for X, y in data_loader:\n",
    "            # Send the data to the target device\n",
    "            X, y = X.to(device), y.to(device)\n",
    "\n",
    "            # 1. Forward pass\n",
    "            test_pred = model(X)\n",
    "\n",
    "            # 2. Calculate the loss/acc\n",
    "            test_loss += loss_fn(test_pred, y)\n",
    "            test_acc += accuracy_fn(y_true=y,\n",
    "                                    y_pred=test_pred.argmax(dim=1)) #go from logits -> prediction labels\n",
    "\n",
    "        # Adjust metrics and print out\n",
    "        test_loss /= len(data_loader)\n",
    "        test_acc /= len(data_loader)\n",
    "        print(f\"Test loss: {test_loss:.5f} | Test acc: {test_acc:.2f}%\")"
   ]
  },
  {
   "cell_type": "code",
   "execution_count": 185,
   "id": "38547496-9cdb-4411-800a-c165266af746",
   "metadata": {},
   "outputs": [
    {
     "data": {
      "application/vnd.jupyter.widget-view+json": {
       "model_id": "24dcff0b5ef349d399b00f53d7590144",
       "version_major": 2,
       "version_minor": 0
      },
      "text/plain": [
       "  0%|          | 0/3 [00:00<?, ?it/s]"
      ]
     },
     "metadata": {},
     "output_type": "display_data"
    },
    {
     "name": "stdout",
     "output_type": "stream",
     "text": [
      "\n",
      "Epoch: 0\n",
      "-----------\n",
      "Looked at 0/60000 samples.\n",
      "Looked at 12800/60000 samples.\n",
      "Looked at 25600/60000 samples.\n",
      "Looked at 38400/60000 samples.\n",
      "Looked at 51200/60000 samples.\n",
      "Train loss: 1.09199 | Train acc: 61.34%\n",
      "Test loss: 0.95636 | Test acc: 65.00%\n",
      "\n",
      "Epoch: 1\n",
      "-----------\n",
      "Looked at 0/60000 samples.\n",
      "Looked at 12800/60000 samples.\n",
      "Looked at 25600/60000 samples.\n",
      "Looked at 38400/60000 samples.\n",
      "Looked at 51200/60000 samples.\n",
      "Train loss: 0.78101 | Train acc: 71.93%\n",
      "Test loss: 0.72227 | Test acc: 73.91%\n",
      "\n",
      "Epoch: 2\n",
      "-----------\n",
      "Looked at 0/60000 samples.\n",
      "Looked at 12800/60000 samples.\n",
      "Looked at 25600/60000 samples.\n",
      "Looked at 38400/60000 samples.\n",
      "Looked at 51200/60000 samples.\n",
      "Train loss: 0.67027 | Train acc: 75.94%\n",
      "Test loss: 0.68500 | Test acc: 75.02%\n",
      "Train time on cuda: 65.506 seconds\n"
     ]
    }
   ],
   "source": [
    "torch.manual_seed(42)\n",
    "\n",
    "# Measure time\n",
    "from timeit import default_timer as timer\n",
    "train_time_start_on_GPU = timer()\n",
    "\n",
    "# Set epochs\n",
    "epochs = 3\n",
    "\n",
    "# Create a optimization and evaluation loop using train_step() and test_step()\n",
    "for epoch in tqdm(range(epochs)):\n",
    "    print(f\"\\nEpoch: {epoch}\\n-----------\")\n",
    "    train_step(model=model_1,\n",
    "               data_loader=train_dataloader,\n",
    "               loss_fn=loss_fn,\n",
    "               optimizer=optimizer,\n",
    "               accuracy_fn=accuracy_fn,\n",
    "               device=device)\n",
    "    test_step(model=model_1,\n",
    "              data_loader=test_dataloader,\n",
    "              loss_fn=loss_fn,\n",
    "              accuracy_fn=accuracy_fn,\n",
    "              device=device)\n",
    "\n",
    "train_time_end_on_GPU = timer()\n",
    "total_train_time_model_1 = print_train_time(start=train_time_start_on_GPU,\n",
    "                                            end=train_time_end_on_GPU,\n",
    "                                            device=device)"
   ]
  },
  {
   "cell_type": "markdown",
   "id": "9aa10d41-dd99-408f-b5cb-75e844c0031c",
   "metadata": {},
   "source": [
    "#### **Note**: Sometimes, depending on your data/hardware you might find that your modle trains faster on CPU than GPU.\n",
    "\n",
    "Why is this?\n",
    "\n",
    "1. It could be that the overhead for copying data/model to and from the GPU outweight the compute benefits offered by the GPU.\n",
    "2. The hardward you're using has a better CPU in terms compute capability than the GPU."
   ]
  },
  {
   "cell_type": "code",
   "execution_count": 188,
   "id": "53b79a91-2e9e-49bd-914e-1bf9134c3dfe",
   "metadata": {},
   "outputs": [
    {
     "data": {
      "application/vnd.jupyter.widget-view+json": {
       "model_id": "9297fa5a6f05447eaf961a23a6d487ef",
       "version_major": 2,
       "version_minor": 0
      },
      "text/plain": [
       "  0%|          | 0/313 [00:00<?, ?it/s]"
      ]
     },
     "metadata": {},
     "output_type": "display_data"
    },
    {
     "data": {
      "text/plain": [
       "{'model_name': 'FashionMNISTModelV1',\n",
       " 'model_loss': 0.6850008964538574,\n",
       " 'model_acc': 75.01996805111821}"
      ]
     },
     "execution_count": 188,
     "metadata": {},
     "output_type": "execute_result"
    }
   ],
   "source": [
    "# Get model_1 result dictionary\n",
    "model_1_results = eval_model(model=model_1,\n",
    "                            data_loader=test_dataloader,\n",
    "                            loss_fn=loss_fn,\n",
    "                            accuracy_fn=accuracy_fn)\n",
    "model_1_results"
   ]
  },
  {
   "cell_type": "markdown",
   "id": "05ff92c2-add1-479e-859e-3f8d0dc2cf73",
   "metadata": {},
   "source": [
    "### Model 2: Building a Convolutional Neural Network (CNN)\n",
    "\n",
    "CNN's are also known as ConvNets.\n",
    "\n",
    "CNN's are known for their capabilities to find patterns in visual data.\n",
    "\n",
    "To find out what's happening inside CNN, go check CNN explaner website."
   ]
  },
  {
   "cell_type": "code",
   "execution_count": 243,
   "id": "cfcb8bba-62e9-4697-9d01-2ac5b154acf4",
   "metadata": {},
   "outputs": [],
   "source": [
    "# Create a convolutional neural network\n",
    "class FashionMNISTModelV2(nn.Module):\n",
    "    \"\"\"\n",
    "    Model architecture that replicates the TinyVGG\n",
    "    model from CNN explainer website.\n",
    "    \"\"\"\n",
    "    def __init__(self, \n",
    "                 input_shape: int,\n",
    "                 hidden_units: int,\n",
    "                 output_shape: int):\n",
    "        super().__init__()\n",
    "        self.conv_block_1 = nn.Sequential(\n",
    "                                nn.Conv2d(in_channels=input_shape,\n",
    "                                          out_channels=hidden_units,\n",
    "                                          kernel_size=3,\n",
    "                                          stride=1,\n",
    "                                          padding=1), # values we can set ourselves in our NN's are called hyperparameters\n",
    "                                nn.ReLU(),\n",
    "                                nn.Conv2d(in_channels=hidden_units,\n",
    "                                          out_channels=hidden_units,\n",
    "                                          kernel_size=3,\n",
    "                                          stride=1,\n",
    "                                          padding=1),\n",
    "                                nn.ReLU(),\n",
    "                                nn.MaxPool2d(kernel_size=2))\n",
    "        \n",
    "        self.conv_block_2 = nn.Sequential(\n",
    "                                nn.Conv2d(in_channels=hidden_units,\n",
    "                                          out_channels=hidden_units,\n",
    "                                          kernel_size=3,\n",
    "                                          stride=1,\n",
    "                                          padding=1),\n",
    "                                nn.ReLU(),\n",
    "                                nn.Conv2d(in_channels=hidden_units,\n",
    "                                          out_channels=hidden_units,\n",
    "                                          kernel_size=3,\n",
    "                                          stride=1,\n",
    "                                          padding=1),\n",
    "                                nn.ReLU(),\n",
    "                                nn.MaxPool2d(kernel_size=2))\n",
    "                    \n",
    "        self.classifier = nn.Sequential(\n",
    "                              nn.Flatten(),\n",
    "                              nn.Linear(in_features=hidden_units*7*7, # there's a trick to calculating this\n",
    "                                        out_features=output_shape))\n",
    "\n",
    "    def forward(self, x):\n",
    "        x = self.conv_block_1(x)\n",
    "        #print(f\"Output shape of conv_block_1: {x.shape}\")\n",
    "        x = self.conv_block_2(x)\n",
    "        #print(f\"Output shape of conv_block_2: {x.shape}\")\n",
    "        x = self.classifier(x)\n",
    "        return x\n"
   ]
  },
  {
   "cell_type": "code",
   "execution_count": 244,
   "id": "fe4eb1a1-d7a9-4351-8944-e152f557529b",
   "metadata": {},
   "outputs": [
    {
     "data": {
      "text/plain": [
       "FashionMNISTModelV2(\n",
       "  (conv_block_1): Sequential(\n",
       "    (0): Conv2d(1, 10, kernel_size=(3, 3), stride=(1, 1), padding=(1, 1))\n",
       "    (1): ReLU()\n",
       "    (2): Conv2d(10, 10, kernel_size=(3, 3), stride=(1, 1), padding=(1, 1))\n",
       "    (3): ReLU()\n",
       "    (4): MaxPool2d(kernel_size=2, stride=2, padding=0, dilation=1, ceil_mode=False)\n",
       "  )\n",
       "  (conv_block_2): Sequential(\n",
       "    (0): Conv2d(10, 10, kernel_size=(3, 3), stride=(1, 1), padding=(1, 1))\n",
       "    (1): ReLU()\n",
       "    (2): Conv2d(10, 10, kernel_size=(3, 3), stride=(1, 1), padding=(1, 1))\n",
       "    (3): ReLU()\n",
       "    (4): MaxPool2d(kernel_size=2, stride=2, padding=0, dilation=1, ceil_mode=False)\n",
       "  )\n",
       "  (classifier): Sequential(\n",
       "    (0): Flatten(start_dim=1, end_dim=-1)\n",
       "    (1): Linear(in_features=490, out_features=10, bias=True)\n",
       "  )\n",
       ")"
      ]
     },
     "execution_count": 244,
     "metadata": {},
     "output_type": "execute_result"
    }
   ],
   "source": [
    "torch.manual_seed(42)\n",
    "model_2 = FashionMNISTModelV2(input_shape=1,\n",
    "                              hidden_units=10,\n",
    "                              output_shape=len(class_name)).to(device)\n",
    "\n",
    "model_2"
   ]
  },
  {
   "cell_type": "markdown",
   "id": "050cd621-ab38-4c7d-92fb-83d0576afe58",
   "metadata": {},
   "source": [
    "#### 7.1 Stepping through `nn.Conv2d()`"
   ]
  },
  {
   "cell_type": "code",
   "execution_count": 245,
   "id": "dccf962f-05a7-4bd7-b6f2-4bf46c819492",
   "metadata": {},
   "outputs": [
    {
     "name": "stdout",
     "output_type": "stream",
     "text": [
      "Image batch shape: torch.Size([32, 3, 64, 64])\n",
      "Single image shape: torch.Size([3, 64, 64])\n",
      "Test image:\n",
      " tensor([[[ 1.9269,  1.4873,  0.9007,  ...,  1.8446, -1.1845,  1.3835],\n",
      "         [ 1.4451,  0.8564,  2.2181,  ...,  0.3399,  0.7200,  0.4114],\n",
      "         [ 1.9312,  1.0119, -1.4364,  ..., -0.5558,  0.7043,  0.7099],\n",
      "         ...,\n",
      "         [-0.5610, -0.4830,  0.4770,  ..., -0.2713, -0.9537, -0.6737],\n",
      "         [ 0.3076, -0.1277,  0.0366,  ..., -2.0060,  0.2824, -0.8111],\n",
      "         [-1.5486,  0.0485, -0.7712,  ..., -0.1403,  0.9416, -0.0118]],\n",
      "\n",
      "        [[-0.5197,  1.8524,  1.8365,  ...,  0.8935, -1.5114, -0.8515],\n",
      "         [ 2.0818,  1.0677, -1.4277,  ...,  1.6612, -2.6223, -0.4319],\n",
      "         [-0.1010, -0.4388, -1.9775,  ...,  0.2106,  0.2536, -0.7318],\n",
      "         ...,\n",
      "         [ 0.2779,  0.7342, -0.3736,  ..., -0.4601,  0.1815,  0.1850],\n",
      "         [ 0.7205, -0.2833,  0.0937,  ..., -0.1002, -2.3609,  2.2465],\n",
      "         [-1.3242, -0.1973,  0.2920,  ...,  0.5409,  0.6940,  1.8563]],\n",
      "\n",
      "        [[-0.7978,  1.0261,  1.1465,  ...,  1.2134,  0.9354, -0.0780],\n",
      "         [-1.4647, -1.9571,  0.1017,  ..., -1.9986, -0.7409,  0.7011],\n",
      "         [-1.3938,  0.8466, -1.7191,  ..., -1.1867,  0.1320,  0.3407],\n",
      "         ...,\n",
      "         [ 0.8206, -0.3745,  1.2499,  ..., -0.0676,  0.0385,  0.6335],\n",
      "         [-0.5589, -0.3393,  0.2347,  ...,  2.1181,  2.4569,  1.3083],\n",
      "         [-0.4092,  1.5199,  0.2401,  ..., -0.2558,  0.7870,  0.9924]]])\n"
     ]
    }
   ],
   "source": [
    "torch.manual_seed(42)\n",
    "\n",
    "# Create a batch of images\n",
    "images = torch.randn(size=(32,3,64,64))\n",
    "test_image = images[0]\n",
    "\n",
    "print(f\"Image batch shape: {images.shape}\")\n",
    "print(f\"Single image shape: {test_image.shape}\")\n",
    "print(f\"Test image:\\n {test_image}\")"
   ]
  },
  {
   "cell_type": "code",
   "execution_count": 246,
   "id": "ba1951da-d928-440c-afa4-103abbe5fa6a",
   "metadata": {},
   "outputs": [
    {
     "data": {
      "text/plain": [
       "(torch.Size([10, 64, 64]),\n",
       " tensor([[[ 1.6446e-01, -6.2518e-01, -7.7713e-01,  ..., -3.2504e-01,\n",
       "           -3.1604e-01,  4.5352e-01],\n",
       "          [ 3.5455e-01, -2.8778e-01, -6.0596e-02,  ...,  6.6224e-01,\n",
       "           -2.3216e-01,  7.7080e-01],\n",
       "          [-4.5420e-02, -9.8911e-01, -4.0099e-01,  ..., -1.8552e-01,\n",
       "           -5.7622e-01,  4.2301e-01],\n",
       "          ...,\n",
       "          [ 2.9288e-01, -1.4512e-01, -1.1566e-01,  ..., -3.6626e-01,\n",
       "            3.5645e-01,  2.8384e-01],\n",
       "          [ 2.0746e-01,  3.6096e-02,  1.5214e-01,  ..., -4.9680e-01,\n",
       "           -7.2258e-01, -8.3858e-02],\n",
       "          [-3.2457e-01, -3.2326e-01,  9.5475e-02,  ...,  5.9960e-01,\n",
       "            3.2819e-01,  3.6604e-01]],\n",
       " \n",
       "         [[ 1.2406e+00,  2.2794e-01, -1.8362e-01,  ..., -6.3520e-01,\n",
       "           -7.5413e-01,  4.0612e-01],\n",
       "          [ 4.1380e-01, -1.0853e+00, -1.6079e+00,  ..., -1.7643e+00,\n",
       "            2.5263e-01,  3.8844e-01],\n",
       "          [ 5.3442e-01, -8.2507e-01,  6.3866e-01,  ...,  4.8068e-01,\n",
       "            8.4869e-01, -1.5706e-01],\n",
       "          ...,\n",
       "          [-5.6922e-03, -5.9820e-01,  3.7339e-01,  ..., -8.9892e-01,\n",
       "            2.9192e-01, -3.8672e-01],\n",
       "          [-6.2494e-01, -1.8412e-01,  2.2085e-01,  ..., -9.0971e-01,\n",
       "            7.9518e-01,  1.1271e-01],\n",
       "          [-3.0298e-02,  6.1405e-01, -8.5520e-02,  ..., -5.1270e-01,\n",
       "            1.5888e-01, -1.3645e+00]],\n",
       " \n",
       "         [[-6.2468e-01,  9.7328e-03, -1.4578e-01,  ...,  2.6686e-01,\n",
       "            1.4064e-01, -4.5320e-01],\n",
       "          [ 2.3947e-01,  3.9605e-02,  6.7841e-01,  ..., -2.9320e-01,\n",
       "           -1.8889e-01,  3.6433e-01],\n",
       "          [-7.0521e-01, -1.5027e+00, -1.1401e+00,  ..., -9.3105e-01,\n",
       "            6.8724e-02,  4.9460e-01],\n",
       "          ...,\n",
       "          [ 2.9098e-01,  8.3423e-02,  2.5296e-01,  ...,  9.1973e-01,\n",
       "            3.2513e-02,  7.0298e-01],\n",
       "          [ 5.6353e-01,  2.0770e-01,  6.7494e-01,  ..., -1.6368e-01,\n",
       "           -1.3886e-01,  7.8882e-01],\n",
       "          [-4.7558e-01, -2.8268e-01,  3.1672e-01,  ..., -1.9034e-01,\n",
       "            1.2044e+00,  8.2398e-01]],\n",
       " \n",
       "         ...,\n",
       " \n",
       "         [[ 8.8568e-01,  1.5031e-01,  2.5578e-01,  ..., -2.8288e-01,\n",
       "            1.0414e+00,  3.5871e-01],\n",
       "          [-1.0052e-01, -6.5893e-01, -1.0476e+00,  ...,  3.5072e-01,\n",
       "            2.5077e-01, -1.0703e-01],\n",
       "          [ 1.6056e+00,  1.3226e+00,  1.9803e+00,  ...,  1.5939e+00,\n",
       "           -1.0821e-01, -1.6139e-01],\n",
       "          ...,\n",
       "          [-5.8132e-01,  1.5033e-01, -3.4481e-01,  ..., -5.1884e-01,\n",
       "            1.9113e-01, -8.4433e-01],\n",
       "          [-4.8288e-01, -2.3805e-02, -4.3101e-01,  ...,  4.1791e-01,\n",
       "            6.0961e-01, -3.4790e-01],\n",
       "          [ 1.1551e+00,  1.9797e-01,  3.4713e-01,  ..., -2.1822e-01,\n",
       "           -1.7563e+00, -6.8369e-01]],\n",
       " \n",
       "         [[-3.4908e-01,  3.2125e-01,  5.9795e-02,  ..., -1.6095e-01,\n",
       "            1.4005e-01, -8.1813e-01],\n",
       "          [-5.7935e-01, -5.7891e-02,  6.3499e-02,  ...,  7.6985e-01,\n",
       "           -6.7518e-01,  2.2837e-01],\n",
       "          [-6.6119e-04,  2.9175e-01,  1.1638e-04,  ...,  6.5636e-01,\n",
       "           -5.4662e-01, -3.0450e-02],\n",
       "          ...,\n",
       "          [-3.9861e-01,  7.5117e-01, -1.5956e-01,  ...,  2.8248e-01,\n",
       "           -4.3361e-01, -5.9872e-01],\n",
       "          [ 1.5383e-01, -2.1132e-01, -4.4753e-01,  ...,  7.9822e-01,\n",
       "           -6.3137e-01,  5.3328e-01],\n",
       "          [-1.9565e-02, -5.6879e-01, -5.2269e-02,  ..., -9.6052e-02,\n",
       "            2.3590e-01,  3.7118e-01]],\n",
       " \n",
       "         [[-2.1315e-02,  5.3412e-01,  4.6034e-01,  ..., -9.8752e-02,\n",
       "            6.7246e-01,  6.9069e-03],\n",
       "          [ 6.7462e-01,  8.6642e-01,  1.6339e+00,  ...,  5.0939e-01,\n",
       "            8.1898e-01, -2.2876e-01],\n",
       "          [ 2.1855e-01,  1.0650e-01,  3.0274e-01,  ..., -4.6203e-01,\n",
       "            3.4506e-01, -4.7562e-01],\n",
       "          ...,\n",
       "          [ 1.1837e-01, -3.4261e-01, -1.6038e-02,  ...,  4.4527e-01,\n",
       "           -1.0111e-01, -2.8634e-01],\n",
       "          [ 2.3712e-01,  4.4487e-02,  9.7506e-02,  ...,  5.3990e-01,\n",
       "           -4.2942e-01, -1.5234e+00],\n",
       "          [ 3.8439e-01, -4.2035e-01, -3.6207e-01,  ...,  1.0422e-01,\n",
       "            1.0504e+00, -6.5699e-01]]], grad_fn=<SqueezeBackward1>))"
      ]
     },
     "execution_count": 246,
     "metadata": {},
     "output_type": "execute_result"
    }
   ],
   "source": [
    "# Create a single conv2d layer\n",
    "conv_layer = nn.Conv2d(in_channels=3,\n",
    "                       out_channels=10,\n",
    "                       kernel_size=(3,3),\n",
    "                       stride=1,\n",
    "                       padding=1)\n",
    "\n",
    "# Pass the data through the convolutional layer\n",
    "conv_output = conv_layer(test_image)  # unsqueeze(dim=0) -> add batch size dimension\n",
    "\n",
    "conv_output.shape,conv_output"
   ]
  },
  {
   "cell_type": "markdown",
   "id": "ae860d61-4775-4e35-be82-40db1cc8f7ac",
   "metadata": {},
   "source": [
    "#### 7.2 Stepping through `nn.MaxPool2d()`"
   ]
  },
  {
   "cell_type": "code",
   "execution_count": 247,
   "id": "0e390730-86bd-4a60-b9b0-579c7d253397",
   "metadata": {},
   "outputs": [
    {
     "name": "stdout",
     "output_type": "stream",
     "text": [
      "Test image original shape: torch.Size([3, 64, 64])\n",
      "Shape after going through conv_layer(): torch.Size([10, 64, 64])\n",
      "Shape after going through con_layer() and max_pool_layer(): torch.Size([10, 32, 32])\n"
     ]
    }
   ],
   "source": [
    "# Print out original image shape without unsqueezed dimension\n",
    "print(f\"Test image original shape: {test_image.shape}\")\n",
    "\n",
    "# Create a sample nn.MaxPool2d layer\n",
    "max_pool_layer = nn.MaxPool2d(kernel_size=2)\n",
    "\n",
    "# Pass data through just the conv_layer\n",
    "test_image_through_conv = conv_layer(test_image)\n",
    "print(f\"Shape after going through conv_layer(): {test_image_through_conv.shape}\")\n",
    "\n",
    "# Pass data through the max pool layer\n",
    "test_image_through_conv_and_max_pool = max_pool_layer(test_image_through_conv)\n",
    "print(f\"Shape after going through con_layer() and max_pool_layer(): {test_image_through_conv_and_max_pool.shape}\")"
   ]
  },
  {
   "cell_type": "code",
   "execution_count": 248,
   "id": "0e2f459b-33d9-4379-a70e-247053c4e134",
   "metadata": {},
   "outputs": [
    {
     "name": "stdout",
     "output_type": "stream",
     "text": [
      "\n",
      "Random tensor:\n",
      "tensor([[[[0.3367, 0.1288],\n",
      "          [0.2345, 0.2303]]]])\n",
      "Random tensor shape: torch.Size([1, 1, 2, 2])\n",
      "\n",
      "Max pool tensor: \n",
      " tensor([[[[0.3367]]]])\n",
      "Max pool tensor shape: torch.Size([1, 1, 1, 1])\n"
     ]
    }
   ],
   "source": [
    "torch.manual_seed(42)\n",
    "# Create a random tensor with a similar number of dimensions to our images\n",
    "random_tensor = torch.randn(size=(1,1,2,2,))\n",
    "print(f\"\\nRandom tensor:\\n{random_tensor}\")\n",
    "print(f\"Random tensor shape: {random_tensor.shape}\")\n",
    "\n",
    "# Create a max pool layer\n",
    "max_pool_layer = nn.MaxPool2d(kernel_size=2)\n",
    "\n",
    "# Pass the random tensor through the max pool layer\n",
    "max_pool_tensor = max_pool_layer(random_tensor)\n",
    "print(f\"\\nMax pool tensor: \\n {max_pool_tensor}\")\n",
    "print(f\"Max pool tensor shape: {max_pool_tensor.shape}\")"
   ]
  },
  {
   "cell_type": "code",
   "execution_count": 249,
   "id": "f0b64592-4e45-4f19-8747-31e980a251e8",
   "metadata": {},
   "outputs": [
    {
     "data": {
      "text/plain": [
       "tensor([[ 0.0246, -0.0644,  0.0551, -0.0360, -0.0139,  0.0113, -0.0014, -0.0075,\n",
       "          0.0213,  0.0076]], device='cuda:0', grad_fn=<AddmmBackward0>)"
      ]
     },
     "execution_count": 249,
     "metadata": {},
     "output_type": "execute_result"
    }
   ],
   "source": [
    "# Pass image through model\n",
    "model_2(image.unsqueeze(dim=0).to(device))"
   ]
  },
  {
   "cell_type": "code",
   "execution_count": 250,
   "id": "742ec8e3-bdbc-43e6-a0ba-c2d180f3e309",
   "metadata": {},
   "outputs": [
    {
     "data": {
      "text/plain": [
       "(device(type='cpu'), torch.Size([1, 28, 28]))"
      ]
     },
     "execution_count": 250,
     "metadata": {},
     "output_type": "execute_result"
    }
   ],
   "source": [
    "image.device,image.shape"
   ]
  },
  {
   "cell_type": "markdown",
   "id": "c5d7dd54-07c2-46fa-a56d-aeb4bc32872b",
   "metadata": {},
   "source": [
    "#### 7.3 Setup a loss function and optimizer for `model_2`"
   ]
  },
  {
   "cell_type": "code",
   "execution_count": 251,
   "id": "afe3f936-47d5-41c5-8203-76a87ebffa82",
   "metadata": {},
   "outputs": [],
   "source": [
    "# Setup loss function/eval metrics/optimizer\n",
    "from helper_functions import accuracy_fn\n",
    "\n",
    "loss_fn = nn.CrossEntropyLoss()\n",
    "optimizer = torch.optim.SGD(params=model_2.parameters(),\n",
    "                            lr=0.001)"
   ]
  },
  {
   "cell_type": "code",
   "execution_count": 252,
   "id": "2dc344d3-1da3-4e34-a1f0-27d19df20289",
   "metadata": {},
   "outputs": [],
   "source": [
    "#model_2.state_dict()"
   ]
  },
  {
   "cell_type": "markdown",
   "id": "13a52f76-d3e0-440e-963f-5db015a32fc0",
   "metadata": {},
   "source": [
    "#### 7.4 Training and testing `model_2` using our training and test function"
   ]
  },
  {
   "cell_type": "code",
   "execution_count": 255,
   "id": "4d093759-f3d3-41c5-9aa0-ce59f41da460",
   "metadata": {},
   "outputs": [
    {
     "data": {
      "application/vnd.jupyter.widget-view+json": {
       "model_id": "b5cfbb1f815e4f4396497989d0d5ce71",
       "version_major": 2,
       "version_minor": 0
      },
      "text/plain": [
       "  0%|          | 0/10 [00:00<?, ?it/s]"
      ]
     },
     "metadata": {},
     "output_type": "display_data"
    },
    {
     "name": "stdout",
     "output_type": "stream",
     "text": [
      "Epoch: 0\n",
      "-------------\n",
      "Looked at 0/60000 samples.\n",
      "Looked at 12800/60000 samples.\n",
      "Looked at 25600/60000 samples.\n",
      "Looked at 38400/60000 samples.\n",
      "Looked at 51200/60000 samples.\n",
      "Train loss: 0.27503 | Train acc: 89.97%\n",
      "Test loss: 0.30588 | Test acc: 88.86%\n",
      "Train time on cuda: 22.071 seconds\n",
      "Epoch: 1\n",
      "-------------\n",
      "Looked at 0/60000 samples.\n",
      "Looked at 12800/60000 samples.\n",
      "Looked at 25600/60000 samples.\n",
      "Looked at 38400/60000 samples.\n",
      "Looked at 51200/60000 samples.\n",
      "Train loss: 0.26876 | Train acc: 90.16%\n",
      "Test loss: 0.28534 | Test acc: 89.50%\n",
      "Train time on cuda: 45.654 seconds\n",
      "Epoch: 2\n",
      "-------------\n",
      "Looked at 0/60000 samples.\n",
      "Looked at 12800/60000 samples.\n",
      "Looked at 25600/60000 samples.\n",
      "Looked at 38400/60000 samples.\n",
      "Looked at 51200/60000 samples.\n",
      "Train loss: 0.26416 | Train acc: 90.34%\n",
      "Test loss: 0.29737 | Test acc: 89.31%\n",
      "Train time on cuda: 67.270 seconds\n",
      "Epoch: 3\n",
      "-------------\n",
      "Looked at 0/60000 samples.\n",
      "Looked at 12800/60000 samples.\n",
      "Looked at 25600/60000 samples.\n",
      "Looked at 38400/60000 samples.\n",
      "Looked at 51200/60000 samples.\n",
      "Train loss: 0.26045 | Train acc: 90.44%\n",
      "Test loss: 0.29155 | Test acc: 89.47%\n",
      "Train time on cuda: 87.994 seconds\n",
      "Epoch: 4\n",
      "-------------\n",
      "Looked at 0/60000 samples.\n",
      "Looked at 12800/60000 samples.\n",
      "Looked at 25600/60000 samples.\n",
      "Looked at 38400/60000 samples.\n",
      "Looked at 51200/60000 samples.\n",
      "Train loss: 0.25607 | Train acc: 90.59%\n",
      "Test loss: 0.29996 | Test acc: 89.04%\n",
      "Train time on cuda: 108.848 seconds\n",
      "Epoch: 5\n",
      "-------------\n",
      "Looked at 0/60000 samples.\n",
      "Looked at 12800/60000 samples.\n",
      "Looked at 25600/60000 samples.\n",
      "Looked at 38400/60000 samples.\n",
      "Looked at 51200/60000 samples.\n",
      "Train loss: 0.25531 | Train acc: 90.64%\n",
      "Test loss: 0.28140 | Test acc: 89.71%\n",
      "Train time on cuda: 129.994 seconds\n",
      "Epoch: 6\n",
      "-------------\n",
      "Looked at 0/60000 samples.\n",
      "Looked at 12800/60000 samples.\n",
      "Looked at 25600/60000 samples.\n",
      "Looked at 38400/60000 samples.\n",
      "Looked at 51200/60000 samples.\n",
      "Train loss: 0.25008 | Train acc: 90.85%\n",
      "Test loss: 0.28178 | Test acc: 89.68%\n",
      "Train time on cuda: 151.278 seconds\n",
      "Epoch: 7\n",
      "-------------\n",
      "Looked at 0/60000 samples.\n",
      "Looked at 12800/60000 samples.\n",
      "Looked at 25600/60000 samples.\n",
      "Looked at 38400/60000 samples.\n",
      "Looked at 51200/60000 samples.\n",
      "Train loss: 0.24701 | Train acc: 90.94%\n",
      "Test loss: 0.29080 | Test acc: 89.57%\n",
      "Train time on cuda: 173.330 seconds\n",
      "Epoch: 8\n",
      "-------------\n",
      "Looked at 0/60000 samples.\n",
      "Looked at 12800/60000 samples.\n",
      "Looked at 25600/60000 samples.\n",
      "Looked at 38400/60000 samples.\n",
      "Looked at 51200/60000 samples.\n",
      "Train loss: 0.24392 | Train acc: 91.12%\n",
      "Test loss: 0.27971 | Test acc: 90.05%\n",
      "Train time on cuda: 193.892 seconds\n",
      "Epoch: 9\n",
      "-------------\n",
      "Looked at 0/60000 samples.\n",
      "Looked at 12800/60000 samples.\n",
      "Looked at 25600/60000 samples.\n",
      "Looked at 38400/60000 samples.\n",
      "Looked at 51200/60000 samples.\n",
      "Train loss: 0.23990 | Train acc: 91.15%\n",
      "Test loss: 0.32179 | Test acc: 88.55%\n",
      "Train time on cuda: 214.836 seconds\n"
     ]
    }
   ],
   "source": [
    "torch.manual_seed(42)\n",
    "torch.cuda.manual_seed(42)\n",
    "\n",
    "# Measure time\n",
    "from timeit import default_timer as timer\n",
    "train_time_start_model_2 = timer()\n",
    "\n",
    "# Train and test model\n",
    "epochs = 3\n",
    "for epoch in tqdm(range(epochs)):\n",
    "    print(f\"Epoch: {epoch}\\n-------------\")\n",
    "    train_step(model=model_2,\n",
    "               data_loader=train_dataloader,\n",
    "               loss_fn=loss_fn,\n",
    "               optimizer=optimizer,\n",
    "               accuracy_fn=accuracy_fn,\n",
    "               device=device)\n",
    "    \n",
    "    test_step(model=model_2,\n",
    "               data_loader=test_dataloader,\n",
    "               loss_fn=loss_fn,\n",
    "               accuracy_fn=accuracy_fn,\n",
    "               device=device)\n",
    "\n",
    "    train_time_end_model_2 = timer()\n",
    "    total_train_time_model_2 = print_train_time(start=train_time_start_model_2,\n",
    "                                                end=train_time_end_model_2,\n",
    "                                                device=device)"
   ]
  },
  {
   "cell_type": "code",
   "execution_count": 259,
   "id": "492ed16c-a1dc-40c8-acb6-0353d03cbb05",
   "metadata": {},
   "outputs": [
    {
     "data": {
      "application/vnd.jupyter.widget-view+json": {
       "model_id": "8af78a02fae843ca8c60d228f5af9d1c",
       "version_major": 2,
       "version_minor": 0
      },
      "text/plain": [
       "  0%|          | 0/313 [00:00<?, ?it/s]"
      ]
     },
     "metadata": {},
     "output_type": "display_data"
    },
    {
     "data": {
      "text/plain": [
       "{'model_name': 'FashionMNISTModelV2',\n",
       " 'model_loss': 0.32179442048072815,\n",
       " 'model_acc': 88.54832268370608}"
      ]
     },
     "execution_count": 259,
     "metadata": {},
     "output_type": "execute_result"
    }
   ],
   "source": [
    "# Get model_2 results\n",
    "model_2_results = eval_model(\n",
    "    model=model_2,\n",
    "    data_loader=test_dataloader,\n",
    "    loss_fn=loss_fn,\n",
    "    accuracy_fn=accuracy_fn,\n",
    "    device=device\n",
    ")\n",
    "model_2_results"
   ]
  },
  {
   "cell_type": "markdown",
   "id": "4ac370d8-2118-46f4-bb1a-7e559cc91a04",
   "metadata": {},
   "source": [
    "### 8. Compare model results and training time"
   ]
  },
  {
   "cell_type": "code",
   "execution_count": 264,
   "id": "3f270869-7da2-4c5e-8d07-42dde5d39803",
   "metadata": {},
   "outputs": [
    {
     "data": {
      "text/html": [
       "<div>\n",
       "<style scoped>\n",
       "    .dataframe tbody tr th:only-of-type {\n",
       "        vertical-align: middle;\n",
       "    }\n",
       "\n",
       "    .dataframe tbody tr th {\n",
       "        vertical-align: top;\n",
       "    }\n",
       "\n",
       "    .dataframe thead th {\n",
       "        text-align: right;\n",
       "    }\n",
       "</style>\n",
       "<table border=\"1\" class=\"dataframe\">\n",
       "  <thead>\n",
       "    <tr style=\"text-align: right;\">\n",
       "      <th></th>\n",
       "      <th>model_name</th>\n",
       "      <th>model_loss</th>\n",
       "      <th>model_acc</th>\n",
       "    </tr>\n",
       "  </thead>\n",
       "  <tbody>\n",
       "    <tr>\n",
       "      <th>0</th>\n",
       "      <td>FashionMNISTModelV0</td>\n",
       "      <td>0.465936</td>\n",
       "      <td>83.925719</td>\n",
       "    </tr>\n",
       "    <tr>\n",
       "      <th>1</th>\n",
       "      <td>FashionMNISTModelV1</td>\n",
       "      <td>0.685001</td>\n",
       "      <td>75.019968</td>\n",
       "    </tr>\n",
       "    <tr>\n",
       "      <th>2</th>\n",
       "      <td>FashionMNISTModelV2</td>\n",
       "      <td>0.321794</td>\n",
       "      <td>88.548323</td>\n",
       "    </tr>\n",
       "  </tbody>\n",
       "</table>\n",
       "</div>"
      ],
      "text/plain": [
       "            model_name  model_loss  model_acc\n",
       "0  FashionMNISTModelV0    0.465936  83.925719\n",
       "1  FashionMNISTModelV1    0.685001  75.019968\n",
       "2  FashionMNISTModelV2    0.321794  88.548323"
      ]
     },
     "execution_count": 264,
     "metadata": {},
     "output_type": "execute_result"
    }
   ],
   "source": [
    "compare_results = pd.DataFrame([model_0_results,\n",
    "                               model_1_results,\n",
    "                               model_2_results])\n",
    "compare_results"
   ]
  },
  {
   "cell_type": "code",
   "execution_count": 266,
   "id": "40fa74f7-fb9a-4af8-afdc-a5c307f64ea3",
   "metadata": {},
   "outputs": [
    {
     "data": {
      "text/html": [
       "<div>\n",
       "<style scoped>\n",
       "    .dataframe tbody tr th:only-of-type {\n",
       "        vertical-align: middle;\n",
       "    }\n",
       "\n",
       "    .dataframe tbody tr th {\n",
       "        vertical-align: top;\n",
       "    }\n",
       "\n",
       "    .dataframe thead th {\n",
       "        text-align: right;\n",
       "    }\n",
       "</style>\n",
       "<table border=\"1\" class=\"dataframe\">\n",
       "  <thead>\n",
       "    <tr style=\"text-align: right;\">\n",
       "      <th></th>\n",
       "      <th>model_name</th>\n",
       "      <th>model_loss</th>\n",
       "      <th>model_acc</th>\n",
       "      <th>training_time</th>\n",
       "    </tr>\n",
       "  </thead>\n",
       "  <tbody>\n",
       "    <tr>\n",
       "      <th>0</th>\n",
       "      <td>FashionMNISTModelV0</td>\n",
       "      <td>0.465936</td>\n",
       "      <td>83.925719</td>\n",
       "      <td>126.370678</td>\n",
       "    </tr>\n",
       "    <tr>\n",
       "      <th>1</th>\n",
       "      <td>FashionMNISTModelV1</td>\n",
       "      <td>0.685001</td>\n",
       "      <td>75.019968</td>\n",
       "      <td>65.506201</td>\n",
       "    </tr>\n",
       "    <tr>\n",
       "      <th>2</th>\n",
       "      <td>FashionMNISTModelV2</td>\n",
       "      <td>0.321794</td>\n",
       "      <td>88.548323</td>\n",
       "      <td>214.835772</td>\n",
       "    </tr>\n",
       "  </tbody>\n",
       "</table>\n",
       "</div>"
      ],
      "text/plain": [
       "            model_name  model_loss  model_acc  training_time\n",
       "0  FashionMNISTModelV0    0.465936  83.925719     126.370678\n",
       "1  FashionMNISTModelV1    0.685001  75.019968      65.506201\n",
       "2  FashionMNISTModelV2    0.321794  88.548323     214.835772"
      ]
     },
     "execution_count": 266,
     "metadata": {},
     "output_type": "execute_result"
    }
   ],
   "source": [
    "# Adding training time to results comparison\n",
    "compare_results[\"training_time\"] = [total_train_time_model_0,\n",
    "                                    total_train_time_model_1,\n",
    "                                    total_train_time_model_2]\n",
    "\n",
    "compare_results"
   ]
  },
  {
   "cell_type": "code",
   "execution_count": 273,
   "id": "cb85fd10-47b6-49fb-a995-704e7210d523",
   "metadata": {},
   "outputs": [
    {
     "data": {
      "text/plain": [
       "Text(0, 0.5, 'model')"
      ]
     },
     "execution_count": 273,
     "metadata": {},
     "output_type": "execute_result"
    },
    {
     "data": {
      "image/png": "[encoded data removed]",
      "text/plain": [
       "<Figure size 640x480 with 1 Axes>"
      ]
     },
     "metadata": {},
     "output_type": "display_data"
    }
   ],
   "source": [
    "# Visualize our model results\n",
    "compare_results.set_index(\"model_name\")[\"model_acc\"].plot(kind=\"barh\")\n",
    "plt.xlabel(\"accuracy (%)\")\n",
    "plt.ylabel(\"model\")"
   ]
  },
  {
   "cell_type": "markdown",
   "id": "1e9c5790-62e3-4765-934b-dea162fbaacd",
   "metadata": {},
   "source": [
    "### 9. Make and evaluate random predictions with best model"
   ]
  },
  {
   "cell_type": "code",
   "execution_count": 276,
   "id": "0878c6ca-5f40-4162-8655-7ee9342bfeca",
   "metadata": {},
   "outputs": [],
   "source": [
    "def make_predictions(model: torch.nn.Module,\n",
    "                     data: list,\n",
    "                     device: torch.device=device):\n",
    "    pred_probs = []\n",
    "    model.eval()\n",
    "    with torch.inference_mode():\n",
    "        for sample in data:\n",
    "            # Prepare the sample (add a batch dimension and pass to target device)\n",
    "            sample = torch.unsqueeze(sample, dim=0).to(device)\n",
    "\n",
    "            # Forward pass (model output raw logits)\n",
    "            pred_logit = model(sample)\n",
    "\n",
    "            # Get prediction probability (logit -> prediction probability)\n",
    "            pred_prob = torch.softmax(pred_logit.squeeze(), dim=0)\n",
    "\n",
    "            # Get pred_prob off the GPU for further calculations\n",
    "            pred_probs.append(pred_prob.cpu())\n",
    "\n",
    "        # Stack the pred_probs to turn list into a tensor\n",
    "        return torch.stack(pred_probs)"
   ]
  },
  {
   "cell_type": "code",
   "execution_count": 314,
   "id": "ac2ba030-708e-4d59-a02a-0fb8686ad2b4",
   "metadata": {},
   "outputs": [
    {
     "data": {
      "text/plain": [
       "torch.Size([1, 28, 28])"
      ]
     },
     "execution_count": 314,
     "metadata": {},
     "output_type": "execute_result"
    }
   ],
   "source": [
    "import random\n",
    "#random.seed(42)\n",
    "test_samples = []\n",
    "test_labels = []\n",
    "\n",
    "for sample, label in random.sample(list(test_data),k=9):\n",
    "    test_samples.append(sample)\n",
    "    test_labels.append(label)\n",
    "\n",
    "# View the first sample shape\n",
    "test_samples[0].shape"
   ]
  },
  {
   "cell_type": "code",
   "execution_count": 315,
   "id": "173b57e9-a5af-4b31-bc02-1001e620e228",
   "metadata": {},
   "outputs": [
    {
     "data": {
      "text/plain": [
       "Text(0.5, 1.0, 'Pullover')"
      ]
     },
     "execution_count": 315,
     "metadata": {},
     "output_type": "execute_result"
    },
    {
     "data": {
      "image/png": "[encoded data removed]",
      "text/plain": [
       "<Figure size 640x480 with 1 Axes>"
      ]
     },
     "metadata": {},
     "output_type": "display_data"
    }
   ],
   "source": [
    "plt.imshow(test_samples[0].squeeze(),cmap=\"gray\")\n",
    "plt.title(class_name[test_labels[0]])"
   ]
  },
  {
   "cell_type": "code",
   "execution_count": 316,
   "id": "e73866fc-e88b-482c-8d2d-1408c8ed622d",
   "metadata": {},
   "outputs": [
    {
     "data": {
      "text/plain": [
       "tensor([[1.1332e-03, 3.7087e-05, 5.2051e-01, 1.9003e-04, 4.7476e-01, 5.1745e-06,\n",
       "         2.3519e-03, 5.7228e-06, 9.4795e-04, 5.3613e-05],\n",
       "        [9.5235e-07, 9.5430e-07, 3.0033e-02, 8.4080e-07, 9.6957e-01, 4.5037e-09,\n",
       "         3.8176e-04, 2.2266e-08, 1.4824e-05, 8.7417e-07]])"
      ]
     },
     "execution_count": 316,
     "metadata": {},
     "output_type": "execute_result"
    }
   ],
   "source": [
    "# Make predictions\n",
    "pred_probs = make_predictions(model=model_2,\n",
    "                              data=test_samples)\n",
    "\n",
    "# View first two prediction probabilities\n",
    "pred_probs[:2]"
   ]
  },
  {
   "cell_type": "code",
   "execution_count": 317,
   "id": "09df2718-beaf-42da-bcd2-ab3426c84e12",
   "metadata": {},
   "outputs": [
    {
     "data": {
      "text/plain": [
       "(tensor([2, 4, 4, 3, 2, 2, 0, 1, 1]), [2, 4, 6, 3, 2, 2, 0, 1, 1])"
      ]
     },
     "execution_count": 317,
     "metadata": {},
     "output_type": "execute_result"
    }
   ],
   "source": [
    "# Convert prediction probabillities to labels\n",
    "pred_classes = pred_probs.argmax(dim=1)\n",
    "pred_classes, test_labels"
   ]
  },
  {
   "cell_type": "code",
   "execution_count": 318,
   "id": "9ee25e77-64f6-4316-a5ba-7f05e58985d8",
   "metadata": {},
   "outputs": [
    {
     "data": {
      "image/png": "[encoded data removed]",
      "text/plain": [
       "<Figure size 900x900 with 9 Axes>"
      ]
     },
     "metadata": {},
     "output_type": "display_data"
    }
   ],
   "source": [
    "# Plot predictions\n",
    "plt.figure(figsize=(9,9))\n",
    "nrows = 3\n",
    "ncols = 3\n",
    "for i, sample in enumerate(test_samples):\n",
    "    # Create subplot\n",
    "    plt.subplot(nrows, ncols, i+1)\n",
    "\n",
    "    # Plot the target image\n",
    "    plt.imshow(sample.squeeze(), cmap=\"gray\")\n",
    "\n",
    "    # Find the prediction (in text form e.g \" Sandal\")\n",
    "    pred_label = class_name[pred_classes[i]]\n",
    "\n",
    "    # Get the truth label (in text form)\n",
    "    truth_label = class_name[test_labels[i]]\n",
    "\n",
    "    # Create a title for the plot\n",
    "    title_text = f\"Pred: {pred_label} | Truth: {truth_label}\"\n",
    "\n",
    "    # Check for equality between pred and truth and change color of title text\n",
    "    if pred_label == truth_label:\n",
    "        plt.title(title_text, fontsize=10, c=\"g\") # green test if prediction same as truth\n",
    "    else:\n",
    "        plt.title(title_text, fontsize=10, c=\"r\") \n",
    "\n",
    "    plt.axis(False)"
   ]
  },
  {
   "cell_type": "markdown",
   "id": "30db6aff-3fe8-44a7-863d-0a3308f611f8",
   "metadata": {},
   "source": [
    "### 10. Making a confusion matrix for further prediction evaluation\n",
    "\n",
    "A confusion matrix is a fantastic way of evaluating your classification models visually.\n",
    "\n",
    "1. Make prediction with our trained madel on the test dataset.\n",
    "2. Make a confusion matrix `torchmetrics.ConfusionMatrix`.\n",
    "3. Plot the cnfusion matrix using `mlxtend.plotting.plot_confusion_matrix()`."
   ]
  },
  {
   "cell_type": "code",
   "execution_count": 322,
   "id": "4b900450-2fcd-4188-9314-6aea57e1dcaf",
   "metadata": {},
   "outputs": [
    {
     "data": {
      "application/vnd.jupyter.widget-view+json": {
       "model_id": "42905f9b71b54f6fab60cbde22346b6b",
       "version_major": 2,
       "version_minor": 0
      },
      "text/plain": [
       "Making predictions...:   0%|          | 0/313 [00:00<?, ?it/s]"
      ]
     },
     "metadata": {},
     "output_type": "display_data"
    },
    {
     "data": {
      "text/plain": [
       "tensor([9, 2, 1,  ..., 8, 0, 0])"
      ]
     },
     "execution_count": 322,
     "metadata": {},
     "output_type": "execute_result"
    }
   ],
   "source": [
    "# Import tqdm.auto\n",
    "from tqdm.auto import tqdm\n",
    "\n",
    "# 1. Make predictions with trained model\n",
    "y_preds = []\n",
    "model_2.eval()\n",
    "with torch.inference_mode():\n",
    "    for X, y in tqdm(test_dataloader, desc=\"Making predictions...\"):\n",
    "        # Send the data and targets to target device\n",
    "        X, y = X.to(device), y.to(device)\n",
    "        # Do the forward pass\n",
    "        y_logit = model_2(X)\n",
    "        # Turn predictions from logits -prediction probabilities -> prediction labels\n",
    "        y_pred = torch.softmax(y_logit.squeeze(),dim=0).argmax(dim=1)\n",
    "        # Put predictions on CPU for evaluation\n",
    "        y_preds.append(y_pred.cpu())\n",
    "\n",
    "# Concatenate list of predictions into a tensor\n",
    "#print(y_preds)\n",
    "y_pred_tensor = torch.cat(y_preds)\n",
    "y_pred_tensor"
   ]
  },
  {
   "cell_type": "code",
   "execution_count": 361,
   "id": "c4052588-920d-40f5-abb9-4c7fb86f1f31",
   "metadata": {},
   "outputs": [
    {
     "name": "stdout",
     "output_type": "stream",
     "text": [
      "mlxtend version: 0.22.0\n"
     ]
    }
   ],
   "source": [
    "# See if required packages are installed and if not, install them...\n",
    "try:\n",
    "    import torchmetrics, mlxtend\n",
    "    print(f\"mlxtend version: {mlxtend.__version__}\")\n",
    "    assert int(mlxtend.__version__.split(\".\")[1]) >= 19, (\"mlxtend version should be 0.19.0 or higher\")\n",
    "except:\n",
    "    print(\"error\")\n",
    "    !conda install torchmetrics -U mlxtend\n",
    "    import torchmetrics, mlxtend\n",
    "    print(f\"mlxtend version: {mlxtend.__version__}\")"
   ]
  },
  {
   "cell_type": "code",
   "execution_count": 362,
   "id": "b9ba53e8-431c-48f1-a46d-79fe401da717",
   "metadata": {},
   "outputs": [
    {
     "name": "stdout",
     "output_type": "stream",
     "text": [
      "0.22.0\n"
     ]
    }
   ],
   "source": [
    "import mlxtend\n",
    "print(mlxtend.__version__)"
   ]
  },
  {
   "cell_type": "code",
   "execution_count": 389,
   "id": "5a18e3f9-94e7-4d16-9537-d46e24eadf99",
   "metadata": {},
   "outputs": [
    {
     "data": {
      "image/png": "[encoded data removed]",
      "text/plain": [
       "<Figure size 1000x700 with 1 Axes>"
      ]
     },
     "metadata": {},
     "output_type": "display_data"
    }
   ],
   "source": [
    "from torchmetrics import ConfusionMatrix\n",
    "from mlxtend.plotting import plot_confusion_matrix\n",
    "\n",
    "# 2. Setup confusion instance and compare predictions to targets\n",
    "confmat = ConfusionMatrix(task = \"multiclass\",\n",
    "                          num_classes=len(class_name))\n",
    "confmat_tensor = confmat(preds=y_pred_tensor,\n",
    "                         target=test_data.targets)\n",
    "\n",
    "# 3. Plot the confusion matrix\n",
    "fig, ax = plot_confusion_matrix(\n",
    "    conf_mat=confmat_tensor.numpy(), # matplotlib likes to work with numpy\n",
    "    figsize=(10,7),\n",
    "    class_names= class_name\n",
    ")\n"
   ]
  },
  {
   "cell_type": "markdown",
   "id": "62d225d3-9af6-4554-9725-4ce69c07afc0",
   "metadata": {},
   "source": [
    "### 11. Save and load best performing model"
   ]
  },
  {
   "cell_type": "code",
   "execution_count": 394,
   "id": "eda241af-d098-4bb5-8a26-558a8576867b",
   "metadata": {},
   "outputs": [
    {
     "name": "stdout",
     "output_type": "stream",
     "text": [
      "Saving model to: models\\03_pytorch_computer_vision_model_2.pth\n"
     ]
    }
   ],
   "source": [
    "from pathlib import Path\n",
    "\n",
    "# Create model dictory path\n",
    "MODEL_PATH = Path(\"models\")\n",
    "MODEL_PATH.mkdir(parents=True,\n",
    "                 exist_ok=True)\n",
    "\n",
    "# Create model save\n",
    "MODEL_NAME = \"03_pytorch_computer_vision_model_2.pth\"\n",
    "MODEL_SAVE_PATH = MODEL_PATH / MODEL_NAME\n",
    "\n",
    "# Save the model state dict\n",
    "print(f\"Saving model to: {MODEL_SAVE_PATH}\")\n",
    "torch.save(obj=model_2.state_dict(),\n",
    "           f=MODEL_SAVE_PATH)"
   ]
  },
  {
   "cell_type": "code",
   "execution_count": 397,
   "id": "4ef9d17a-610e-499b-83ea-f034b1413f89",
   "metadata": {},
   "outputs": [
    {
     "data": {
      "text/plain": [
       "FashionMNISTModelV2(\n",
       "  (conv_block_1): Sequential(\n",
       "    (0): Conv2d(1, 10, kernel_size=(3, 3), stride=(1, 1), padding=(1, 1))\n",
       "    (1): ReLU()\n",
       "    (2): Conv2d(10, 10, kernel_size=(3, 3), stride=(1, 1), padding=(1, 1))\n",
       "    (3): ReLU()\n",
       "    (4): MaxPool2d(kernel_size=2, stride=2, padding=0, dilation=1, ceil_mode=False)\n",
       "  )\n",
       "  (conv_block_2): Sequential(\n",
       "    (0): Conv2d(10, 10, kernel_size=(3, 3), stride=(1, 1), padding=(1, 1))\n",
       "    (1): ReLU()\n",
       "    (2): Conv2d(10, 10, kernel_size=(3, 3), stride=(1, 1), padding=(1, 1))\n",
       "    (3): ReLU()\n",
       "    (4): MaxPool2d(kernel_size=2, stride=2, padding=0, dilation=1, ceil_mode=False)\n",
       "  )\n",
       "  (classifier): Sequential(\n",
       "    (0): Flatten(start_dim=1, end_dim=-1)\n",
       "    (1): Linear(in_features=490, out_features=10, bias=True)\n",
       "  )\n",
       ")"
      ]
     },
     "execution_count": 397,
     "metadata": {},
     "output_type": "execute_result"
    }
   ],
   "source": [
    "# Create a new instance\n",
    "torch.manual_seed(42)\n",
    "\n",
    "loaded_model_2 = FashionMNISTModelV2(input_shape=1,\n",
    "                                     hidden_units=10,\n",
    "                                     output_shape=len(class_names))\n",
    "\n",
    "# Load in the save state_dice()\n",
    "loaded_model_2.load_state_dict(torch.load(f=MODEL_SAVE_PATH))\n",
    "\n",
    "# Send the model to the target device\n",
    "loaded_model_2.to(device)"
   ]
  },
  {
   "cell_type": "code",
   "execution_count": 398,
   "id": "d2049a73-b372-42bd-b231-b0359df38a2b",
   "metadata": {},
   "outputs": [
    {
     "data": {
      "text/plain": [
       "{'model_name': 'FashionMNISTModelV2',\n",
       " 'model_loss': 0.32179442048072815,\n",
       " 'model_acc': 88.54832268370608}"
      ]
     },
     "execution_count": 398,
     "metadata": {},
     "output_type": "execute_result"
    }
   ],
   "source": [
    "model_2_results"
   ]
  },
  {
   "cell_type": "code",
   "execution_count": 402,
   "id": "433d85d0-f3dd-45ca-a06d-d51a06fe43f7",
   "metadata": {},
   "outputs": [
    {
     "data": {
      "application/vnd.jupyter.widget-view+json": {
       "model_id": "fb1b2139cd8f4709a0f5d71317466b82",
       "version_major": 2,
       "version_minor": 0
      },
      "text/plain": [
       "  0%|          | 0/313 [00:00<?, ?it/s]"
      ]
     },
     "metadata": {},
     "output_type": "display_data"
    },
    {
     "data": {
      "text/plain": [
       "{'model_name': 'FashionMNISTModelV2',\n",
       " 'model_loss': 0.32179442048072815,\n",
       " 'model_acc': 88.54832268370608}"
      ]
     },
     "execution_count": 402,
     "metadata": {},
     "output_type": "execute_result"
    }
   ],
   "source": [
    "# Evaluate loaded model\n",
    "torch.manual_seed(42)\n",
    "\n",
    "loaded_model_2_results = eval_model(\n",
    "    model=loaded_model_2,\n",
    "    data_loader=test_dataloader,\n",
    "    loss_fn=loss_fn,\n",
    "    accuracy_fn=accuracy_fn\n",
    ")\n",
    "\n",
    "loaded_model_2_results"
   ]
  },
  {
   "cell_type": "code",
   "execution_count": 407,
   "id": "220c59fb-f864-440a-b8bf-43b9706d7c98",
   "metadata": {},
   "outputs": [
    {
     "data": {
      "text/plain": [
       "tensor(True)"
      ]
     },
     "execution_count": 407,
     "metadata": {},
     "output_type": "execute_result"
    }
   ],
   "source": [
    "# Check if model results are close to each other\n",
    "torch.isclose(torch.tensor(model_2_results[\"model_loss\"]),\n",
    "              torch.tensor(loaded_model_2_results[\"model_loss\"]),\n",
    "             atol=1e-02) # tolerence level"
   ]
  },
  {
   "cell_type": "code",
   "execution_count": null,
   "id": "9c1ceddf-8848-4417-a502-d54cacda9d3c",
   "metadata": {},
   "outputs": [],
   "source": []
  }
 ],
 "metadata": {
  "kernelspec": {
   "display_name": "pytorch_env",
   "language": "python",
   "name": "pytorch_env"
  },
  "language_info": {
   "codemirror_mode": {
    "name": "ipython",
    "version": 3
   },
   "file_extension": ".py",
   "mimetype": "text/x-python",
   "name": "python",
   "nbconvert_exporter": "python",
   "pygments_lexer": "ipython3",
   "version": "3.11.5"
  }
 },
 "nbformat": 4,
 "nbformat_minor": 5
}
